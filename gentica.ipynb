{
  "nbformat": 4,
  "nbformat_minor": 0,
  "metadata": {
    "kernelspec": {
      "display_name": "Python 3",
      "language": "python",
      "name": "python3"
    },
    "language_info": {
      "codemirror_mode": {
        "name": "ipython",
        "version": 3
      },
      "file_extension": ".py",
      "mimetype": "text/x-python",
      "name": "python",
      "nbconvert_exporter": "python",
      "pygments_lexer": "ipython3",
      "version": "3.6.9"
    },
    "colab": {
      "name": "gentica.ipynb",
      "provenance": []
    }
  },
  "cells": [
    {
      "cell_type": "markdown",
      "metadata": {
        "id": "7TcPgmCu9YPM",
        "colab_type": "text"
      },
      "source": [
        "# Regresión\n",
        "En este notebook exploraremos los conceptos básicos e implementación de la regresión lineal, para ajuste de curvas y la regresión logística para clasificación binaria.\n",
        "\n",
        "## Regresión Lineal\n",
        "Como ya se exploró anteriormente, podemos definir la regresión lineal como un ajuste de curvas en el cual nuestra hipótesis es una combinación lineal de las entradas y los parámetros.\n",
        "\n",
        "### Hipótesis\n",
        "Sea $\\mathbf{x}$ un vector de entrada con $m$ elementos donde cada elemento se denota por $x_1, x_2, \\dots x_m$, el vector $\\mathbf{x}$ se corresponde con un vector de salida $\\mathbf{y}$ con la misma cantidad de elementos. Cada elemento $x_i$ cuenta con su correspondiente valor de salida $y_i$. Sea $\\mathbf{w}$ un vector que representa a los coeficientes o parámetros de la regresión lineal, y un elemento $b$ que se denomina el *bias* estos parámetros definen la naturaleza del hiperplano que representa a la solución. La función de hipótesis para la regresión lineal se define de la siguiente forma:\n",
        "\n",
        "\\begin{equation}\n",
        "h(\\mathbf{x}, \\mathbf{w}, b) = w_1 x_1 + w_2 x_2 \\dots w_m x_m + b\n",
        "\\end{equation}\n",
        "\n",
        "### Función de costo\n",
        "La función de costo está definida por el **error cuadrático medio** o MSE denotada por la siguiente ecuación:\n",
        "\\begin{equation}\n",
        "J(\\mathbf{w}, b) = \\frac{1}{m} \\sum_{i=1}^m(h(x_i)-y_i)^2\n",
        "\\end{equation}\n",
        "\n",
        "### Descenso de gradiente\n",
        "La forma de encontrar la solución con error mínimo se denomina **descenso de gradiente** y está definido de la siguiente forma:\n",
        "\\begin{equation}\n",
        "Repetir: \\\\\n",
        "    \\mathbf{w} := \\mathbf{w} - \\alpha \\frac{\\partial{J}}{\\partial{\\mathbf{w}}}\n",
        "\\end{equation}\n",
        "\n",
        "$\\alpha$ es el *learning rate*\n"
      ]
    },
    {
      "cell_type": "code",
      "metadata": {
        "id": "yRhRAzq09YPT",
        "colab_type": "code",
        "colab": {}
      },
      "source": [
        "from sklearn.datasets import load_boston\n",
        "import random\n",
        "import numpy as np\n",
        "X, y = load_boston(return_X_y=True)\n",
        "X = X.tolist()\n",
        "y = y.tolist()"
      ],
      "execution_count": 0,
      "outputs": []
    },
    {
      "cell_type": "code",
      "metadata": {
        "id": "yp-GJxIp9YPn",
        "colab_type": "code",
        "colab": {}
      },
      "source": [
        "w = [random.random() for x in X[0]]\n",
        "b = random.random()"
      ],
      "execution_count": 0,
      "outputs": []
    },
    {
      "cell_type": "code",
      "metadata": {
        "id": "z8SrcQW89YP1",
        "colab_type": "code",
        "colab": {}
      },
      "source": [
        "def h(x,w,b):\n",
        "    res = 0\n",
        "    res= np.dot(w,x)\n",
        "    #for i in range(len(x)):\n",
        "    #    res += w[i]*x[i]\n",
        "    res +=b\n",
        "    return res\n",
        "def cost(x, y, hyp, w, b):\n",
        "    m = len(x)\n",
        "    res = 0\n",
        "    #res=np.sum(hyp(map(x),w,b)-map(y)**2)\n",
        "    for i in range(len(x)):\n",
        "        res += (hyp(x[i], w, b) - y[i])**2\n",
        "    return res/(2*m)\n",
        "    "
      ],
      "execution_count": 0,
      "outputs": []
    },
    {
      "cell_type": "code",
      "metadata": {
        "id": "Rpx7e6ww9YQm",
        "colab_type": "code",
        "colab": {}
      },
      "source": [
        "def d_cost_w(x, y, hyp, w, b):\n",
        "    # w\n",
        "    m = len(x)\n",
        "    deriv = []\n",
        "    for j in range(len(w)):\n",
        "        res = 0\n",
        "        for i in range(len(x)):\n",
        "            res += (hyp(x[i],w,b) - y[i])*x[i][j]\n",
        "        res /= m\n",
        "        \n",
        "        deriv.append(res)\n",
        "    return deriv\n",
        "        \n",
        "def d_cost_b(x, y, hyp, w, b):\n",
        "    m = len(x)\n",
        "    res = 0\n",
        "    #res=np.sum(hyp(map(x),w,b)-map(y))\n",
        "    for i in range(len(x)):\n",
        "        res += (hyp(x[i],w,b) - y[i])\n",
        "    res /= m\n",
        "    return res"
      ],
      "execution_count": 0,
      "outputs": []
    },
    {
      "cell_type": "code",
      "metadata": {
        "id": "PkL32yMT9YQs",
        "colab_type": "code",
        "colab": {
          "base_uri": "https://localhost:8080/",
          "height": 34
        },
        "outputId": "95226449-c166-484b-d549-17bf456a1a02"
      },
      "source": [
        "print(X[0])"
      ],
      "execution_count": 19,
      "outputs": [
        {
          "output_type": "stream",
          "text": [
            "[0.00632, 18.0, 2.31, 0.0, 0.538, 6.575, 65.2, 4.09, 1.0, 296.0, 15.3, 396.9, 4.98]\n"
          ],
          "name": "stdout"
        }
      ]
    },
    {
      "cell_type": "code",
      "metadata": {
        "id": "oB1Tlctw9YQy",
        "colab_type": "code",
        "colab": {
          "base_uri": "https://localhost:8080/",
          "height": 528
        },
        "outputId": "2712dc3a-1323-4618-858e-0edefe08de44"
      },
      "source": [
        "from sklearn.datasets import load_boston\n",
        "import random\n",
        "X, y = load_boston(return_X_y=True)\n",
        "X = X.tolist()\n",
        "y = y.tolist()\n",
        "w = [random.random() for x in X[0]]\n",
        "b = random.random()\n",
        "# entrenamiento\n",
        "# repetir hasta la convergencia\n",
        "alpha = 0.0001\n",
        "iters = 1000\n",
        "\n",
        "for i in range(iters):\n",
        "    for j in range(len(w)):\n",
        "        w[j] = w[j] - alpha * d_cost_w(X_norm,y,h,w,b)[j]\n",
        "    b = b - alpha * d_cost_b(X_norm,y,h,w,b)\n",
        "    print(cost(X_norm,y,h,w,b))\n",
        "\n"
      ],
      "execution_count": 55,
      "outputs": [
        {
          "output_type": "stream",
          "text": [
            "263.8931691570765\n",
            "263.80724578052514\n",
            "263.72135550645766\n",
            "263.63549832210543\n",
            "263.5496742147026\n",
            "263.46388317148916\n",
            "263.3781251797108\n"
          ],
          "name": "stdout"
        },
        {
          "output_type": "error",
          "ename": "KeyboardInterrupt",
          "evalue": "ignored",
          "traceback": [
            "\u001b[0;31m---------------------------------------------------------------------------\u001b[0m",
            "\u001b[0;31mKeyboardInterrupt\u001b[0m                         Traceback (most recent call last)",
            "\u001b[0;32m<ipython-input-55-9914b48f328d>\u001b[0m in \u001b[0;36m<module>\u001b[0;34m()\u001b[0m\n\u001b[1;32m     13\u001b[0m \u001b[0;32mfor\u001b[0m \u001b[0mi\u001b[0m \u001b[0;32min\u001b[0m \u001b[0mrange\u001b[0m\u001b[0;34m(\u001b[0m\u001b[0miters\u001b[0m\u001b[0;34m)\u001b[0m\u001b[0;34m:\u001b[0m\u001b[0;34m\u001b[0m\u001b[0;34m\u001b[0m\u001b[0m\n\u001b[1;32m     14\u001b[0m     \u001b[0;32mfor\u001b[0m \u001b[0mj\u001b[0m \u001b[0;32min\u001b[0m \u001b[0mrange\u001b[0m\u001b[0;34m(\u001b[0m\u001b[0mlen\u001b[0m\u001b[0;34m(\u001b[0m\u001b[0mw\u001b[0m\u001b[0;34m)\u001b[0m\u001b[0;34m)\u001b[0m\u001b[0;34m:\u001b[0m\u001b[0;34m\u001b[0m\u001b[0;34m\u001b[0m\u001b[0m\n\u001b[0;32m---> 15\u001b[0;31m         \u001b[0mw\u001b[0m\u001b[0;34m[\u001b[0m\u001b[0mj\u001b[0m\u001b[0;34m]\u001b[0m \u001b[0;34m=\u001b[0m \u001b[0mw\u001b[0m\u001b[0;34m[\u001b[0m\u001b[0mj\u001b[0m\u001b[0;34m]\u001b[0m \u001b[0;34m-\u001b[0m \u001b[0malpha\u001b[0m \u001b[0;34m*\u001b[0m \u001b[0md_cost_w\u001b[0m\u001b[0;34m(\u001b[0m\u001b[0mX_norm\u001b[0m\u001b[0;34m,\u001b[0m\u001b[0my\u001b[0m\u001b[0;34m,\u001b[0m\u001b[0mh\u001b[0m\u001b[0;34m,\u001b[0m\u001b[0mw\u001b[0m\u001b[0;34m,\u001b[0m\u001b[0mb\u001b[0m\u001b[0;34m)\u001b[0m\u001b[0;34m[\u001b[0m\u001b[0mj\u001b[0m\u001b[0;34m]\u001b[0m\u001b[0;34m\u001b[0m\u001b[0;34m\u001b[0m\u001b[0m\n\u001b[0m\u001b[1;32m     16\u001b[0m     \u001b[0mb\u001b[0m \u001b[0;34m=\u001b[0m \u001b[0mb\u001b[0m \u001b[0;34m-\u001b[0m \u001b[0malpha\u001b[0m \u001b[0;34m*\u001b[0m \u001b[0md_cost_b\u001b[0m\u001b[0;34m(\u001b[0m\u001b[0mX_norm\u001b[0m\u001b[0;34m,\u001b[0m\u001b[0my\u001b[0m\u001b[0;34m,\u001b[0m\u001b[0mh\u001b[0m\u001b[0;34m,\u001b[0m\u001b[0mw\u001b[0m\u001b[0;34m,\u001b[0m\u001b[0mb\u001b[0m\u001b[0;34m)\u001b[0m\u001b[0;34m\u001b[0m\u001b[0;34m\u001b[0m\u001b[0m\n\u001b[1;32m     17\u001b[0m     \u001b[0mprint\u001b[0m\u001b[0;34m(\u001b[0m\u001b[0mcost\u001b[0m\u001b[0;34m(\u001b[0m\u001b[0mX_norm\u001b[0m\u001b[0;34m,\u001b[0m\u001b[0my\u001b[0m\u001b[0;34m,\u001b[0m\u001b[0mh\u001b[0m\u001b[0;34m,\u001b[0m\u001b[0mw\u001b[0m\u001b[0;34m,\u001b[0m\u001b[0mb\u001b[0m\u001b[0;34m)\u001b[0m\u001b[0;34m)\u001b[0m\u001b[0;34m\u001b[0m\u001b[0;34m\u001b[0m\u001b[0m\n",
            "\u001b[0;32m<ipython-input-38-d200036e7779>\u001b[0m in \u001b[0;36md_cost_w\u001b[0;34m(x, y, hyp, w, b)\u001b[0m\n\u001b[1;32m      6\u001b[0m         \u001b[0mres\u001b[0m \u001b[0;34m=\u001b[0m \u001b[0;36m0\u001b[0m\u001b[0;34m\u001b[0m\u001b[0;34m\u001b[0m\u001b[0m\n\u001b[1;32m      7\u001b[0m         \u001b[0;32mfor\u001b[0m \u001b[0mi\u001b[0m \u001b[0;32min\u001b[0m \u001b[0mrange\u001b[0m\u001b[0;34m(\u001b[0m\u001b[0mlen\u001b[0m\u001b[0;34m(\u001b[0m\u001b[0mx\u001b[0m\u001b[0;34m)\u001b[0m\u001b[0;34m)\u001b[0m\u001b[0;34m:\u001b[0m\u001b[0;34m\u001b[0m\u001b[0;34m\u001b[0m\u001b[0m\n\u001b[0;32m----> 8\u001b[0;31m             \u001b[0mres\u001b[0m \u001b[0;34m+=\u001b[0m \u001b[0;34m(\u001b[0m\u001b[0mhyp\u001b[0m\u001b[0;34m(\u001b[0m\u001b[0mx\u001b[0m\u001b[0;34m[\u001b[0m\u001b[0mi\u001b[0m\u001b[0;34m]\u001b[0m\u001b[0;34m,\u001b[0m\u001b[0mw\u001b[0m\u001b[0;34m,\u001b[0m\u001b[0mb\u001b[0m\u001b[0;34m)\u001b[0m \u001b[0;34m-\u001b[0m \u001b[0my\u001b[0m\u001b[0;34m[\u001b[0m\u001b[0mi\u001b[0m\u001b[0;34m]\u001b[0m\u001b[0;34m)\u001b[0m\u001b[0;34m*\u001b[0m\u001b[0mx\u001b[0m\u001b[0;34m[\u001b[0m\u001b[0mi\u001b[0m\u001b[0;34m]\u001b[0m\u001b[0;34m[\u001b[0m\u001b[0mj\u001b[0m\u001b[0;34m]\u001b[0m\u001b[0;34m\u001b[0m\u001b[0;34m\u001b[0m\u001b[0m\n\u001b[0m\u001b[1;32m      9\u001b[0m         \u001b[0mres\u001b[0m \u001b[0;34m/=\u001b[0m \u001b[0mm\u001b[0m\u001b[0;34m\u001b[0m\u001b[0;34m\u001b[0m\u001b[0m\n\u001b[1;32m     10\u001b[0m \u001b[0;34m\u001b[0m\u001b[0m\n",
            "\u001b[0;32m<ipython-input-54-a9f9ada5265b>\u001b[0m in \u001b[0;36mh\u001b[0;34m(x, w, b)\u001b[0m\n\u001b[1;32m      1\u001b[0m \u001b[0;32mdef\u001b[0m \u001b[0mh\u001b[0m\u001b[0;34m(\u001b[0m\u001b[0mx\u001b[0m\u001b[0;34m,\u001b[0m\u001b[0mw\u001b[0m\u001b[0;34m,\u001b[0m\u001b[0mb\u001b[0m\u001b[0;34m)\u001b[0m\u001b[0;34m:\u001b[0m\u001b[0;34m\u001b[0m\u001b[0;34m\u001b[0m\u001b[0m\n\u001b[1;32m      2\u001b[0m     \u001b[0mres\u001b[0m \u001b[0;34m=\u001b[0m \u001b[0;36m0\u001b[0m\u001b[0;34m\u001b[0m\u001b[0;34m\u001b[0m\u001b[0m\n\u001b[0;32m----> 3\u001b[0;31m     \u001b[0mres\u001b[0m\u001b[0;34m=\u001b[0m \u001b[0mnp\u001b[0m\u001b[0;34m.\u001b[0m\u001b[0mdot\u001b[0m\u001b[0;34m(\u001b[0m\u001b[0mw\u001b[0m\u001b[0;34m,\u001b[0m\u001b[0mx\u001b[0m\u001b[0;34m)\u001b[0m\u001b[0;34m\u001b[0m\u001b[0;34m\u001b[0m\u001b[0m\n\u001b[0m\u001b[1;32m      4\u001b[0m     \u001b[0;31m#for i in range(len(x)):\u001b[0m\u001b[0;34m\u001b[0m\u001b[0;34m\u001b[0m\u001b[0;34m\u001b[0m\u001b[0m\n\u001b[1;32m      5\u001b[0m     \u001b[0;31m#    res += w[i]*x[i]\u001b[0m\u001b[0;34m\u001b[0m\u001b[0;34m\u001b[0m\u001b[0;34m\u001b[0m\u001b[0m\n",
            "\u001b[0;32m<__array_function__ internals>\u001b[0m in \u001b[0;36mdot\u001b[0;34m(*args, **kwargs)\u001b[0m\n",
            "\u001b[0;31mKeyboardInterrupt\u001b[0m: "
          ]
        }
      ]
    },
    {
      "cell_type": "markdown",
      "metadata": {
        "id": "6TNB1w7n9YQ4",
        "colab_type": "text"
      },
      "source": [
        "## normalizacion de vectores de entrada *extra*\n",
        "Los pasos para normalizar las entradas:\n",
        "1. Encontrar los rangos (min, max) de cada una de las columnas del vector\n",
        "2. Generar una funcion (lista, operacion) que convierta un vector a su forma normalizada\n",
        "3. Entrenar el algoritmo con esos vectores normalizados\n",
        "\n",
        "Si la normalización esta bien implementada, el entrenamiento debería realizarse correctamente.\n"
      ]
    },
    {
      "cell_type": "code",
      "metadata": {
        "id": "rIkz2xn19YQ5",
        "colab_type": "code",
        "colab": {
          "base_uri": "https://localhost:8080/",
          "height": 85
        },
        "outputId": "a3f42e50-4328-449f-cf4d-259aa56fc8a9"
      },
      "source": [
        "from sklearn.preprocessing import Normalizer\n",
        "transformer = Normalizer().fit(X)\n",
        "transformer\n",
        "Normalizer() \n",
        "X_norm=transformer.transform(X)\n",
        "print(X_norm[0])"
      ],
      "execution_count": 31,
      "outputs": [
        {
          "output_type": "stream",
          "text": [
            "[1.26388341e-05 3.59966795e-02 4.61957387e-03 0.00000000e+00\n",
            " 1.07590075e-03 1.31487871e-02 1.30387972e-01 8.17924550e-03\n",
            " 1.99981553e-03 5.91945396e-01 3.05971776e-02 7.93726783e-01\n",
            " 9.95908132e-03]\n"
          ],
          "name": "stdout"
        }
      ]
    }
  ]
}